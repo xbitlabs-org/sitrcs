{
 "cells": [
  {
   "cell_type": "code",
   "execution_count": 2,
   "id": "89f4326c-5e5c-4928-8b87-b3cca3321d73",
   "metadata": {},
   "outputs": [],
   "source": [
    "from sympy import symbols, diff, Matrix"
   ]
  },
  {
   "cell_type": "code",
   "execution_count": 3,
   "id": "83799e3b-fa9a-4171-a663-5381434dc58c",
   "metadata": {},
   "outputs": [
    {
     "name": "stdout",
     "output_type": "stream",
     "text": [
      "Critical Points:\n",
      "{x: 0, y: 0}\n"
     ]
    },
    {
     "ename": "TypeError",
     "evalue": "'Symbol' object is not subscriptable",
     "output_type": "error",
     "traceback": [
      "\u001b[0;31m---------------------------------------------------------------------------\u001b[0m",
      "\u001b[0;31mTypeError\u001b[0m                                 Traceback (most recent call last)",
      "Cell \u001b[0;32mIn[3], line 21\u001b[0m\n\u001b[1;32m     18\u001b[0m \u001b[38;5;28mprint\u001b[39m(critical_points)\n\u001b[1;32m     20\u001b[0m \u001b[38;5;66;03m# Evaluate the function at critical points to determine maxima/minima\u001b[39;00m\n\u001b[0;32m---> 21\u001b[0m extrema_values \u001b[38;5;241m=\u001b[39m \u001b[43m[\u001b[49m\u001b[43mf\u001b[49m\u001b[38;5;241;43m.\u001b[39;49m\u001b[43msubs\u001b[49m\u001b[43m(\u001b[49m\u001b[43m{\u001b[49m\u001b[43mx\u001b[49m\u001b[43m:\u001b[49m\u001b[43m \u001b[49m\u001b[43mpoint\u001b[49m\u001b[43m[\u001b[49m\u001b[43mx\u001b[49m\u001b[43m]\u001b[49m\u001b[43m,\u001b[49m\u001b[43m \u001b[49m\u001b[43my\u001b[49m\u001b[43m:\u001b[49m\u001b[43m \u001b[49m\u001b[43mpoint\u001b[49m\u001b[43m[\u001b[49m\u001b[43my\u001b[49m\u001b[43m]\u001b[49m\u001b[43m}\u001b[49m\u001b[43m)\u001b[49m\u001b[43m \u001b[49m\u001b[38;5;28;43;01mfor\u001b[39;49;00m\u001b[43m \u001b[49m\u001b[43mpoint\u001b[49m\u001b[43m \u001b[49m\u001b[38;5;129;43;01min\u001b[39;49;00m\u001b[43m \u001b[49m\u001b[43mcritical_points\u001b[49m\u001b[43m]\u001b[49m\n\u001b[1;32m     23\u001b[0m \u001b[38;5;66;03m# Find maximum and minimum values\u001b[39;00m\n\u001b[1;32m     24\u001b[0m max_value \u001b[38;5;241m=\u001b[39m \u001b[38;5;28mmax\u001b[39m(extrema_values)\n",
      "Cell \u001b[0;32mIn[3], line 21\u001b[0m, in \u001b[0;36m<listcomp>\u001b[0;34m(.0)\u001b[0m\n\u001b[1;32m     18\u001b[0m \u001b[38;5;28mprint\u001b[39m(critical_points)\n\u001b[1;32m     20\u001b[0m \u001b[38;5;66;03m# Evaluate the function at critical points to determine maxima/minima\u001b[39;00m\n\u001b[0;32m---> 21\u001b[0m extrema_values \u001b[38;5;241m=\u001b[39m [f\u001b[38;5;241m.\u001b[39msubs({x: \u001b[43mpoint\u001b[49m\u001b[43m[\u001b[49m\u001b[43mx\u001b[49m\u001b[43m]\u001b[49m, y: point[y]}) \u001b[38;5;28;01mfor\u001b[39;00m point \u001b[38;5;129;01min\u001b[39;00m critical_points]\n\u001b[1;32m     23\u001b[0m \u001b[38;5;66;03m# Find maximum and minimum values\u001b[39;00m\n\u001b[1;32m     24\u001b[0m max_value \u001b[38;5;241m=\u001b[39m \u001b[38;5;28mmax\u001b[39m(extrema_values)\n",
      "\u001b[0;31mTypeError\u001b[0m: 'Symbol' object is not subscriptable"
     ]
    }
   ],
   "source": [
    "from sympy import symbols, diff, solve, limit\n",
    "\n",
    "# Define the variables\n",
    "x, y = symbols('x y')\n",
    "\n",
    "# Define the function\n",
    "f = x**2 + y**2\n",
    "\n",
    "# Compute partial derivatives\n",
    "df_dx = diff(f, x)\n",
    "df_dy = diff(f, y)\n",
    "\n",
    "# Find critical points (where partial derivatives are zero)\n",
    "critical_points = solve([df_dx, df_dy], (x, y))\n",
    "\n",
    "# Print critical points\n",
    "print(\"Critical Points:\")\n",
    "print(critical_points)\n",
    "\n",
    "# Evaluate the function at critical points to determine maxima/minima\n",
    "extrema_values = [f.subs({x: point[x], y: point[y]}) for point in critical_points]\n",
    "\n",
    "# Find maximum and minimum values\n",
    "max_value = max(extrema_values)\n",
    "min_value = min(extrema_values)\n",
    "\n",
    "print(\"Maximum value:\", max_value)\n",
    "print(\"Minimum value:\", min_value)\n",
    "\n",
    "# Compute limits\n",
    "limit_x_approaches_infinity = limit(f, x, float('inf'))\n",
    "limit_y_approaches_infinity = limit(f, y, float('inf'))\n",
    "\n",
    "print(\"Limit as x approaches infinity:\", limit_x_approaches_infinity)\n",
    "print(\"Limit as y approaches infinity:\", limit_y_approaches_infinity)\n"
   ]
  },
  {
   "cell_type": "code",
   "execution_count": null,
   "id": "f45b0a27-bcd6-4568-9490-a4aa70d063b6",
   "metadata": {},
   "outputs": [],
   "source": []
  }
 ],
 "metadata": {
  "kernelspec": {
   "display_name": "Python 3 (ipykernel)",
   "language": "python",
   "name": "python3"
  },
  "language_info": {
   "codemirror_mode": {
    "name": "ipython",
    "version": 3
   },
   "file_extension": ".py",
   "mimetype": "text/x-python",
   "name": "python",
   "nbconvert_exporter": "python",
   "pygments_lexer": "ipython3",
   "version": "3.11.5"
  }
 },
 "nbformat": 4,
 "nbformat_minor": 5
}
