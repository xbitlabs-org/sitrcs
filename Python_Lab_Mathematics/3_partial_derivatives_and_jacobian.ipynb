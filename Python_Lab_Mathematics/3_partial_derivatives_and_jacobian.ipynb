{
 "cells": [
  {
   "cell_type": "code",
   "execution_count": 3,
   "id": "7ec8d506-8e61-40d2-8866-0d89d35d1322",
   "metadata": {},
   "outputs": [
    {
     "name": "stdout",
     "output_type": "stream",
     "text": [
      "2*x + 2\n",
      "Partial derivative of f with respect to x: 2*x + 2\n",
      "Partial derivative of f with respect to y: 2*y + 6\n",
      "2*x + 2 2*y + 6\n",
      "Jacobian matrix:\n",
      "Matrix([[2*x + 2], [2*y + 6]])\n"
     ]
    }
   ],
   "source": [
    "from sympy import symbols, diff, Matrix\n",
    "\n",
    "# Define the variables\n",
    "x, y = symbols('x y')\n",
    "\n",
    "# Define the function\n",
    "f = x**2 + 2*x + y**2 + y*5 + y + 1\n",
    "\n",
    "# Compute partial derivatives\n",
    "df_dx = diff(f, x)\n",
    "df_dy = diff(f, y)\n",
    "\n",
    "print(df_dx)\n",
    "\n",
    "# Print the partial derivatives\n",
    "print(\"Partial derivative of f with respect to x:\", df_dx)\n",
    "print(\"Partial derivative of f with respect to y:\", df_dy)\n",
    "\n",
    "print(df_dx, df_dy)\n",
    "# Compute the Jacobian matrix\n",
    "J = Matrix([df_dx, df_dy])\n",
    "\n",
    "# Print the Jacobian matrix\n",
    "print(\"Jacobian matrix:\")\n",
    "print(J)\n"
   ]
  },
  {
   "cell_type": "code",
   "execution_count": null,
   "id": "dd9f9420-8af6-4b16-9512-17535c643bc7",
   "metadata": {},
   "outputs": [],
   "source": []
  },
  {
   "cell_type": "code",
   "execution_count": null,
   "id": "95636a39-34bc-4dd5-ae86-02f62a13791a",
   "metadata": {},
   "outputs": [],
   "source": []
  }
 ],
 "metadata": {
  "kernelspec": {
   "display_name": "Python 3 (ipykernel)",
   "language": "python",
   "name": "python3"
  },
  "language_info": {
   "codemirror_mode": {
    "name": "ipython",
    "version": 3
   },
   "file_extension": ".py",
   "mimetype": "text/x-python",
   "name": "python",
   "nbconvert_exporter": "python",
   "pygments_lexer": "ipython3",
   "version": "3.11.5"
  }
 },
 "nbformat": 4,
 "nbformat_minor": 5
}
