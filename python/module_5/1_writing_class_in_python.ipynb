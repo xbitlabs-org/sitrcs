{
 "cells": [
  {
   "cell_type": "code",
   "execution_count": 1,
   "id": "4ac4096e-21bd-4e0b-a3b8-10aaf8b0bac6",
   "metadata": {},
   "outputs": [
    {
     "name": "stdout",
     "output_type": "stream",
     "text": [
      "The 2022 Toyota Camry's engine is now running.\n",
      "The 2022 Toyota Camry's engine is now stopped.\n"
     ]
    }
   ],
   "source": [
    "class Car:\n",
    "    def __init__(self, make, model, year):\n",
    "        self.make = make\n",
    "        self.model = model\n",
    "        self.year = year\n",
    "        self.is_running = False\n",
    "\n",
    "    def start_engine(self):\n",
    "        if not self.is_running:\n",
    "            print(f\"The {self.year} {self.make} {self.model}'s engine is now running.\")\n",
    "            self.is_running = True\n",
    "        else:\n",
    "            print(\"The engine is already running.\")\n",
    "\n",
    "    def stop_engine(self):\n",
    "        if self.is_running:\n",
    "            print(f\"The {self.year} {self.make} {self.model}'s engine is now stopped.\")\n",
    "            self.is_running = False\n",
    "        else:\n",
    "            print(\"The engine is already stopped.\")\n",
    "\n",
    "# Example usage:\n",
    "my_car = Car(\"Toyota\", \"Camry\", 2022)\n",
    "my_car.start_engine()\n",
    "my_car.stop_engine()"
   ]
  },
  {
   "cell_type": "code",
   "execution_count": null,
   "id": "769b698c-d55b-41f5-963d-0ba13faae4c6",
   "metadata": {},
   "outputs": [],
   "source": []
  }
 ],
 "metadata": {
  "kernelspec": {
   "display_name": "Python 3 (ipykernel)",
   "language": "python",
   "name": "python3"
  },
  "language_info": {
   "codemirror_mode": {
    "name": "ipython",
    "version": 3
   },
   "file_extension": ".py",
   "mimetype": "text/x-python",
   "name": "python",
   "nbconvert_exporter": "python",
   "pygments_lexer": "ipython3",
   "version": "3.11.6"
  }
 },
 "nbformat": 4,
 "nbformat_minor": 5
}
