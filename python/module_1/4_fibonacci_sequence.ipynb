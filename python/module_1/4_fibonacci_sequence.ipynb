{
 "cells": [
  {
   "cell_type": "code",
   "execution_count": 1,
   "id": "2406d60a-f2fc-48fa-b7b6-9e24864e04b9",
   "metadata": {},
   "outputs": [],
   "source": [
    "# Program to write Fibonacci sequence"
   ]
  },
  {
   "cell_type": "code",
   "execution_count": 2,
   "id": "5df0399b-0b71-4b37-a179-fae0f3b19507",
   "metadata": {},
   "outputs": [
    {
     "name": "stdout",
     "output_type": "stream",
     "text": [
      "Fibonacci sequence:\n",
      "0  1  1  2  3  5  8  13  21  34  "
     ]
    }
   ],
   "source": [
    "# Initializing first two numbers \n",
    "\n",
    "num1, num2 = 0, 1\n",
    "print(\"Fibonacci sequence:\")\n",
    "\n",
    "n = 10 # Numbers required to be generated in the sequence\n",
    "for i in range(10):\n",
    "    # print next number of a series\n",
    "    print(num1, end=\"  \")\n",
    "    \n",
    "    # adding num 1 and num 2\n",
    "    res = num1 + num2\n",
    "\n",
    "    # updating num1 with num2 value and num2 with the added value \n",
    "    num1 = num2\n",
    "    num2 = res\n"
   ]
  },
  {
   "cell_type": "code",
   "execution_count": null,
   "id": "733cbec3-af2a-4886-8780-fa0316f8ab3f",
   "metadata": {},
   "outputs": [],
   "source": [
    "# Using function"
   ]
  },
  {
   "cell_type": "code",
   "execution_count": 3,
   "id": "a2b77e2b-f48c-4fcb-8ba9-2b8bdf3d36a1",
   "metadata": {},
   "outputs": [],
   "source": [
    "num1, num2 = 0, 1\n",
    "\n",
    "# arguments contains the number required to be generated \n",
    "def generate_fibonacci_seq(number, num1, num2):\n",
    "    for i in range(number):\n",
    "        print(num1, end=\" \")\n",
    "\n",
    "        res = num1 + num2\n",
    "        num1 = num2\n",
    "        num2 = res"
   ]
  },
  {
   "cell_type": "code",
   "execution_count": 4,
   "id": "d09fa939-00fe-4b99-bfde-4c5d22c23406",
   "metadata": {},
   "outputs": [
    {
     "name": "stdout",
     "output_type": "stream",
     "text": [
      "0 1 1 2 3 5 8 13 21 34 55 89 144 "
     ]
    }
   ],
   "source": [
    "generate_fibonacci_seq(13, num1, num2)"
   ]
  },
  {
   "cell_type": "code",
   "execution_count": null,
   "id": "8405fe4e-3fff-4524-bc07-6c62223a1ec0",
   "metadata": {},
   "outputs": [],
   "source": []
  }
 ],
 "metadata": {
  "kernelspec": {
   "display_name": "Python 3 (ipykernel)",
   "language": "python",
   "name": "python3"
  },
  "language_info": {
   "codemirror_mode": {
    "name": "ipython",
    "version": 3
   },
   "file_extension": ".py",
   "mimetype": "text/x-python",
   "name": "python",
   "nbconvert_exporter": "python",
   "pygments_lexer": "ipython3",
   "version": "3.11.5"
  }
 },
 "nbformat": 4,
 "nbformat_minor": 5
}
