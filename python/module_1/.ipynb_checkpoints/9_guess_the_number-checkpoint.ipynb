{
 "cells": [
  {
   "cell_type": "code",
   "execution_count": 1,
   "id": "ff0d2b67-e7d7-4d93-aa80-4679500f5088",
   "metadata": {},
   "outputs": [
    {
     "name": "stdout",
     "output_type": "stream",
     "text": [
      "Welcome to the Guess the Number game!\n",
      "Can you guess the number between 1 and 100? You have 5 attempts.\n"
     ]
    },
    {
     "name": "stdin",
     "output_type": "stream",
     "text": [
      "Enter your guess:  56\n"
     ]
    },
    {
     "name": "stdout",
     "output_type": "stream",
     "text": [
      "Try a higher number.\n"
     ]
    },
    {
     "name": "stdin",
     "output_type": "stream",
     "text": [
      "Enter your guess:  6789\n"
     ]
    },
    {
     "name": "stdout",
     "output_type": "stream",
     "text": [
      "Try a lower number.\n"
     ]
    },
    {
     "name": "stdin",
     "output_type": "stream",
     "text": [
      "Enter your guess:  56\n"
     ]
    },
    {
     "name": "stdout",
     "output_type": "stream",
     "text": [
      "Try a higher number.\n"
     ]
    },
    {
     "name": "stdin",
     "output_type": "stream",
     "text": [
      "Enter your guess:  100\n"
     ]
    },
    {
     "name": "stdout",
     "output_type": "stream",
     "text": [
      "Try a lower number.\n"
     ]
    },
    {
     "name": "stdin",
     "output_type": "stream",
     "text": [
      "Enter your guess:  90\n"
     ]
    },
    {
     "name": "stdout",
     "output_type": "stream",
     "text": [
      "Congratulations! You guessed the number 90 in 5 attempts.\n",
      "Sorry, you've run out of attempts. The secret number was 90.\n"
     ]
    }
   ],
   "source": [
    "import random\n",
    "\n",
    "# Generate a random number between 1 and 100\n",
    "secret_number = random.randint(1, 100)\n",
    "\n",
    "# Set the number of guesses allowed\n",
    "max_guesses = 5\n",
    "attempts = 0\n",
    "\n",
    "print(\"Welcome to the Guess the Number game!\")\n",
    "print(f\"Can you guess the number between 1 and 100? You have {max_guesses} attempts.\")\n",
    "\n",
    "while attempts < max_guesses:\n",
    "    try:\n",
    "        # Get a guess from the player\n",
    "        guess = int(input(\"Enter your guess: \"))\n",
    "\n",
    "        # Increment the number of attempts\n",
    "        attempts += 1\n",
    "\n",
    "        # Check if the guess is correct\n",
    "        if guess == secret_number:\n",
    "            print(f\"Congratulations! You guessed the number {secret_number} in {attempts} attempts.\")\n",
    "            break\n",
    "        elif guess < secret_number:\n",
    "            print(\"Try a higher number.\")\n",
    "        else:\n",
    "            print(\"Try a lower number.\")\n",
    "\n",
    "    except ValueError:\n",
    "        print(\"Please enter a valid number.\")\n",
    "\n",
    "if attempts == max_guesses:\n",
    "    print(f\"Sorry, you've run out of attempts. The secret number was {secret_number}.\")\n"
   ]
  },
  {
   "cell_type": "code",
   "execution_count": null,
   "id": "42279a0b-2117-4c63-8f97-9a7f1657a600",
   "metadata": {},
   "outputs": [],
   "source": []
  }
 ],
 "metadata": {
  "kernelspec": {
   "display_name": "Python 3 (ipykernel)",
   "language": "python",
   "name": "python3"
  },
  "language_info": {
   "codemirror_mode": {
    "name": "ipython",
    "version": 3
   },
   "file_extension": ".py",
   "mimetype": "text/x-python",
   "name": "python",
   "nbconvert_exporter": "python",
   "pygments_lexer": "ipython3",
   "version": "3.11.5"
  }
 },
 "nbformat": 4,
 "nbformat_minor": 5
}
