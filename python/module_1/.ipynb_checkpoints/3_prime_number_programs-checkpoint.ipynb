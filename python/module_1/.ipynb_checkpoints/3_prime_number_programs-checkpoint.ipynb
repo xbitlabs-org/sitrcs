{
 "cells": [
  {
   "cell_type": "code",
   "execution_count": 34,
   "id": "75c9100b-9de9-4dd1-968b-c3f0c468a306",
   "metadata": {},
   "outputs": [],
   "source": [
    "## Program to check if a number is prime or not"
   ]
  },
  {
   "cell_type": "code",
   "execution_count": 31,
   "id": "66838fe4-9eea-4148-a6e1-321857c1b775",
   "metadata": {},
   "outputs": [],
   "source": [
    "def check_prime(num):\n",
    "    if num > 1:\n",
    "        print(num)\n",
    "        for i in range(2, int(num/2)+1):\n",
    "            if (num % i) == 0:\n",
    "                print(num, \"is not a prime number\")\n",
    "                break\n",
    "        else:\n",
    "            print(num, \"is a prime number\")\n",
    "    else:\n",
    "        print(num, \"is not a prime number\")"
   ]
  },
  {
   "cell_type": "code",
   "execution_count": 32,
   "id": "a5ebf78d-ed69-442e-8791-736866f7ceaf",
   "metadata": {},
   "outputs": [
    {
     "name": "stdout",
     "output_type": "stream",
     "text": [
      "2\n",
      "2 is a prime number\n"
     ]
    }
   ],
   "source": [
    "check_prime(2)"
   ]
  },
  {
   "cell_type": "code",
   "execution_count": 39,
   "id": "2c45e4b4-a549-439d-97b8-5eca28968ecd",
   "metadata": {},
   "outputs": [],
   "source": [
    "def check_prime(num):\n",
    "    if num > 1:\n",
    "        print(num)\n",
    "        for i in range(2, num):\n",
    "            if (num % i) == 0:\n",
    "                print(num, \"is not a prime number\")\n",
    "                break\n",
    "        else:\n",
    "            print(num, \"is a prime number\")\n",
    "    else:\n",
    "        print(num, \"is not a prime number\")"
   ]
  },
  {
   "cell_type": "code",
   "execution_count": 44,
   "id": "c637e1f6-93f6-4c5a-af88-2a69583df2d0",
   "metadata": {},
   "outputs": [
    {
     "name": "stdout",
     "output_type": "stream",
     "text": [
      "4\n",
      "4 is not a prime number\n"
     ]
    }
   ],
   "source": [
    "check_prime(4)"
   ]
  },
  {
   "cell_type": "code",
   "execution_count": 45,
   "id": "6dd2032b-f52b-4793-8396-d74b8d74628c",
   "metadata": {},
   "outputs": [
    {
     "name": "stdout",
     "output_type": "stream",
     "text": [
      "True\n"
     ]
    }
   ],
   "source": [
    "import math\n",
    " \n",
    "def check_prime(n):\n",
    "    if n <= 1:\n",
    "        return False\n",
    "    for i in range(2, int(math.sqrt(n)) + 1):\n",
    "        if n % i == 0:\n",
    "            return False\n",
    "    return True\n",
    " \n",
    "n = 11\n",
    "print(check_prime(n))"
   ]
  },
  {
   "cell_type": "code",
   "execution_count": null,
   "id": "92a1b6f4-292f-460d-bbc1-132037ba865d",
   "metadata": {},
   "outputs": [],
   "source": []
  },
  {
   "cell_type": "code",
   "execution_count": 42,
   "id": "efd784c8-15a5-49d9-9da5-0f8cd0d238ad",
   "metadata": {},
   "outputs": [],
   "source": [
    "import math\n",
    " \n",
    "def is_prime(n):\n",
    "    if n < 2:\n",
    "        return False\n",
    "    i = 2\n",
    "    while i*i <= n:\n",
    "        if n % i == 0:\n",
    "            return False\n",
    "        i += 1\n",
    "    return True"
   ]
  },
  {
   "cell_type": "code",
   "execution_count": 43,
   "id": "11a26293-fc2b-44b2-8b77-261c892b1ab2",
   "metadata": {},
   "outputs": [
    {
     "name": "stdout",
     "output_type": "stream",
     "text": [
      "True\n"
     ]
    }
   ],
   "source": [
    "print(is_prime(11))"
   ]
  },
  {
   "cell_type": "code",
   "execution_count": null,
   "id": "f332f706-13c8-4571-b4bd-ddf4a39dff84",
   "metadata": {},
   "outputs": [],
   "source": []
  }
 ],
 "metadata": {
  "kernelspec": {
   "display_name": "Python 3 (ipykernel)",
   "language": "python",
   "name": "python3"
  },
  "language_info": {
   "codemirror_mode": {
    "name": "ipython",
    "version": 3
   },
   "file_extension": ".py",
   "mimetype": "text/x-python",
   "name": "python",
   "nbconvert_exporter": "python",
   "pygments_lexer": "ipython3",
   "version": "3.11.5"
  }
 },
 "nbformat": 4,
 "nbformat_minor": 5
}
