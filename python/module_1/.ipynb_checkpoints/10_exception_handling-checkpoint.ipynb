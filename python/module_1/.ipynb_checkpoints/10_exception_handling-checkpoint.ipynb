{
 "cells": [
  {
   "cell_type": "code",
   "execution_count": 2,
   "id": "cdc52c73-f11b-4426-824f-2b225c50452e",
   "metadata": {},
   "outputs": [
    {
     "name": "stdin",
     "output_type": "stream",
     "text": [
      "Enter a number:  1\n"
     ]
    },
    {
     "name": "stdout",
     "output_type": "stream",
     "text": [
      "You entered the number: 1.0\n",
      "Execution completed.\n"
     ]
    }
   ],
   "source": [
    "try:\n",
    "\n",
    "    user_input = input(\"Enter a number: \")\n",
    "\n",
    "    num = float(user_input)  # Try to convert user input to a float\n",
    "\n",
    "    print(f\"You entered the number: {num}\")\n",
    "\n",
    "except ValueError:\n",
    "\n",
    "    # Handle the ValueError exception (user didn't enter a valid number)\n",
    "\n",
    "    print(\"Invalid input. Please enter a valid number.\")\n",
    "\n",
    "finally:\n",
    "\n",
    "    print(\"Execution completed.\")"
   ]
  },
  {
   "cell_type": "code",
   "execution_count": null,
   "id": "82e83346-e1ac-4194-8359-42dfca20cd65",
   "metadata": {},
   "outputs": [],
   "source": []
  }
 ],
 "metadata": {
  "kernelspec": {
   "display_name": "Python 3 (ipykernel)",
   "language": "python",
   "name": "python3"
  },
  "language_info": {
   "codemirror_mode": {
    "name": "ipython",
    "version": 3
   },
   "file_extension": ".py",
   "mimetype": "text/x-python",
   "name": "python",
   "nbconvert_exporter": "python",
   "pygments_lexer": "ipython3",
   "version": "3.11.5"
  }
 },
 "nbformat": 4,
 "nbformat_minor": 5
}
