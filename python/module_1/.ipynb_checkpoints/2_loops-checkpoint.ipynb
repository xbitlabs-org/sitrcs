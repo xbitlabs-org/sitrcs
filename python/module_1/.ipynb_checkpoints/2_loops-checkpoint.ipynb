{
 "cells": [
  {
   "cell_type": "code",
   "execution_count": null,
   "id": "5a2d0fb8-a797-474b-92e8-ee310f74daf1",
   "metadata": {},
   "outputs": [],
   "source": [
    "factorial = 1\n",
    "\n",
    "num = int(input())\n",
    "\n",
    "if num < 0:\n",
    "    print('factorial does not exist')\n",
    "\n",
    "elif num == 0:\n",
    "    print('Factorial is 1')\n",
    "    \n",
    "else:\n",
    "    for i in range(1, num+1):\n",
    "        factorial = factorial * i\n",
    "    print('Factorial of ', num, ' is :', factorial)"
   ]
  },
  {
   "cell_type": "code",
   "execution_count": 10,
   "id": "e0c0adeb-3948-4b88-80d5-1f07caf9118f",
   "metadata": {},
   "outputs": [],
   "source": [
    "# Factorial using while loop"
   ]
  },
  {
   "cell_type": "code",
   "execution_count": 17,
   "id": "870f51dc-df9b-4065-86d5-f52a489f240f",
   "metadata": {},
   "outputs": [
    {
     "name": "stdin",
     "output_type": "stream",
     "text": [
      " 4\n"
     ]
    },
    {
     "name": "stdout",
     "output_type": "stream",
     "text": [
      "1\n",
      "2\n",
      "6\n",
      "24\n",
      "Factorial of  4  is : 24\n"
     ]
    }
   ],
   "source": [
    "factorial = 1\n",
    "num = int((input()))\n",
    "\n",
    "if num < 0:\n",
    "    print('factorial does not exist')\n",
    "\n",
    "elif num == 0:\n",
    "    print('Factorial is 1')\n",
    "    \n",
    "else:\n",
    "    i = 1\n",
    "    while i <= num:\n",
    "        factorial = factorial * i\n",
    "        print(factorial)\n",
    "        i = i+1\n",
    "    print('Factorial of ', num, ' is :', factorial)"
   ]
  },
  {
   "cell_type": "code",
   "execution_count": 18,
   "id": "47cb8c64-6817-40ee-8ae8-ba43b11c18d4",
   "metadata": {},
   "outputs": [],
   "source": [
    "# sum of n numbers using for loop"
   ]
  },
  {
   "cell_type": "code",
   "execution_count": 2,
   "id": "04fcc7b3-0a88-49a0-a0bd-1ea3decc8464",
   "metadata": {},
   "outputs": [
    {
     "name": "stdin",
     "output_type": "stream",
     "text": [
      " 5\n"
     ]
    },
    {
     "name": "stdout",
     "output_type": "stream",
     "text": [
      "0\n",
      "1\n",
      "3\n",
      "6\n",
      "10\n",
      "Sum is :  15\n"
     ]
    }
   ],
   "source": [
    "n = int(input())\n",
    "\n",
    "sum = 0\n",
    "for i in range(1, n+1):\n",
    "    print(sum)\n",
    "    sum  = sum + i\n",
    "\n",
    "print('Sum is : ', sum)"
   ]
  },
  {
   "cell_type": "code",
   "execution_count": null,
   "id": "fa2f5346-9327-4bd8-97e1-2517f6a0118e",
   "metadata": {},
   "outputs": [],
   "source": [
    "# sum of n numbers using while loop"
   ]
  },
  {
   "cell_type": "code",
   "execution_count": null,
   "id": "7ccdd5ae-2a7a-4599-a364-20088adff9cb",
   "metadata": {},
   "outputs": [],
   "source": [
    "n  = input()"
   ]
  },
  {
   "cell_type": "code",
   "execution_count": null,
   "id": "f3ec6efc-e047-4e1b-809c-c1646cd07720",
   "metadata": {},
   "outputs": [],
   "source": [
    "sum = 0\n",
    "i = 0\n",
    "while i <= n:\n",
    "    sum = sum + i\n",
    "print('Sum of ', n, ' numbers ', 'is :', sum)"
   ]
  },
  {
   "cell_type": "code",
   "execution_count": null,
   "id": "1ce6612f-8ba4-4f44-976e-127a0a11d9d6",
   "metadata": {},
   "outputs": [],
   "source": []
  }
 ],
 "metadata": {
  "kernelspec": {
   "display_name": "Python 3 (ipykernel)",
   "language": "python",
   "name": "python3"
  },
  "language_info": {
   "codemirror_mode": {
    "name": "ipython",
    "version": 3
   },
   "file_extension": ".py",
   "mimetype": "text/x-python",
   "name": "python",
   "nbconvert_exporter": "python",
   "pygments_lexer": "ipython3",
   "version": "3.11.5"
  }
 },
 "nbformat": 4,
 "nbformat_minor": 5
}
