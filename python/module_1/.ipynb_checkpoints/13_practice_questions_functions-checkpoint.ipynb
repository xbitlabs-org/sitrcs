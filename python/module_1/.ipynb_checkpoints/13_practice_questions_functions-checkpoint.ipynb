{
 "cells": [
  {
   "cell_type": "code",
   "execution_count": 2,
   "id": "ca6ce9c7-9770-4825-81aa-75e588866a3f",
   "metadata": {},
   "outputs": [
    {
     "name": "stdout",
     "output_type": "stream",
     "text": [
      "1 2 3 4 5 \n",
      "2 4 6 8 10 \n",
      "3 6 9 12 15 \n",
      "4 8 12 16 20 \n",
      "5 10 15 20 25 \n"
     ]
    }
   ],
   "source": [
    "# Function 1 (Simple Loop): \n",
    "#This function takes a list of numbers and uses a for loop to print each number.\n",
    "\n",
    "def multiplication_table(n):\n",
    "    for i in range(1, n + 1):\n",
    "        for j in range(1, n + 1):\n",
    "            print(i * j, end=\" \")\n",
    "        print()\n",
    "\n",
    "# Example\n",
    "multiplication_table(5)\n"
   ]
  },
  {
   "cell_type": "code",
   "execution_count": 3,
   "id": "59dae7c3-bed0-4d3a-814e-35f160fc35e9",
   "metadata": {},
   "outputs": [
    {
     "name": "stdout",
     "output_type": "stream",
     "text": [
      "1 2 3 4 5 \n",
      "2 4 6 8 10 \n",
      "3 6 9 12 15 \n",
      "4 8 12 16 20 \n",
      "5 10 15 20 25 \n"
     ]
    }
   ],
   "source": [
    "# Function 2 (Nested Loop - Multiplication Table):\n",
    "#This function generates a multiplication table using nested loops and a specified range.\n",
    "\n",
    "def multiplication_table(n):\n",
    "    for i in range(1, n + 1):\n",
    "        for j in range(1, n + 1):\n",
    "            print(i * j, end=\" \")\n",
    "        print()\n",
    "\n",
    "# Example\n",
    "multiplication_table(5)\n"
   ]
  },
  {
   "cell_type": "code",
   "execution_count": 5,
   "id": "685b5681-5a32-4d9f-9314-ce41290548eb",
   "metadata": {},
   "outputs": [
    {
     "name": "stdout",
     "output_type": "stream",
     "text": [
      "P y t h o n "
     ]
    }
   ],
   "source": [
    "#Function 3 (Loop with String):\n",
    "#This function takes a string and uses a for loop to print each character.\n",
    "\n",
    "def print_characters(word):\n",
    "    for letter in word:\n",
    "        print(letter, end=\" \")\n",
    "\n",
    "# Example\n",
    "word = \"Python\"\n",
    "print_characters(word)\n"
   ]
  },
  {
   "cell_type": "code",
   "execution_count": 8,
   "id": "4dd1320c-6405-4c06-95f3-1b1bdfcd163b",
   "metadata": {},
   "outputs": [
    {
     "name": "stdout",
     "output_type": "stream",
     "text": [
      "1 2 "
     ]
    }
   ],
   "source": [
    "#Function 4 (Loop with Break):\n",
    "#This function demonstrates a loop with a break statement.\n",
    "\n",
    "def loop_with_break(limit):\n",
    "    for i in range(1, limit + 1):\n",
    "        if i % 3 == 0:\n",
    "            break\n",
    "        print(i, end=\" \")\n",
    "\n",
    "# Example\n",
    "loop_with_break(10)\n"
   ]
  },
  {
   "cell_type": "code",
   "execution_count": 9,
   "id": "e414230a-fd89-43d4-9f89-3534548c451c",
   "metadata": {},
   "outputs": [
    {
     "name": "stdout",
     "output_type": "stream",
     "text": [
      "1 2 4 5 7 8 10 "
     ]
    }
   ],
   "source": [
    "# Function 5 (Loop with Continue):\n",
    "# This function shows a loop with a continue statement.\n",
    "\n",
    "def loop_with_continue(limit):\n",
    "    for i in range(1, limit + 1):\n",
    "        if i % 3 == 0:\n",
    "            continue\n",
    "        print(i, end=\" \")\n",
    "\n",
    "# Example\n",
    "loop_with_continue(10)\n"
   ]
  },
  {
   "cell_type": "code",
   "execution_count": 10,
   "id": "7440ca53-5302-4a6a-ab4e-a69041576414",
   "metadata": {},
   "outputs": [
    {
     "name": "stdout",
     "output_type": "stream",
     "text": [
      "10 8 6 4 2 "
     ]
    }
   ],
   "source": [
    "# Function 6 (Loop with Range and Step):\n",
    "#This function prints numbers within a specified range with a step value.\n",
    "\n",
    "def print_numbers_in_range(start, end, step):\n",
    "    for i in range(start, end, step):\n",
    "        print(i, end=\" \")\n",
    "\n",
    "# Example\n",
    "print_numbers_in_range(10, 0, -2)\n"
   ]
  },
  {
   "cell_type": "code",
   "execution_count": 11,
   "id": "513f2143-bae0-4463-ab2c-662ae40a0328",
   "metadata": {},
   "outputs": [
    {
     "name": "stdout",
     "output_type": "stream",
     "text": [
      "2 4 6 8 10 "
     ]
    }
   ],
   "source": [
    "# Function 7 (Loop with Conditional):\n",
    "#This function prints numbers based on a conditional expression.\n",
    "\n",
    "def print_numbers_with_condition(limit):\n",
    "    for i in range(1, limit + 1):\n",
    "        if i % 2 == 0:\n",
    "            print(i, end=\" \")\n",
    "\n",
    "# Example\n",
    "print_numbers_with_condition(10)\n"
   ]
  },
  {
   "cell_type": "code",
   "execution_count": 12,
   "id": "46cb3964-4a5c-4de4-ae85-a02bad677908",
   "metadata": {},
   "outputs": [
    {
     "name": "stdout",
     "output_type": "stream",
     "text": [
      "1 \n",
      "1 2 \n",
      "1 2 3 \n",
      "1 2 3 4 \n",
      "1 2 3 4 5 \n"
     ]
    }
   ],
   "source": [
    "# Function 8 (Nested Loop - Triangular Pattern):\n",
    "# This function generates a triangular pattern using nested loops.\n",
    "\n",
    "def print_triangular_pattern(n):\n",
    "    for i in range(1, n + 1):\n",
    "        for j in range(1, i + 1):\n",
    "            print(j, end=\" \")\n",
    "        print()\n",
    "\n",
    "# Example\n",
    "print_triangular_pattern(5)\n"
   ]
  },
  {
   "cell_type": "code",
   "execution_count": 13,
   "id": "dcb8b1d5-aab7-4f98-a30b-3e40a0f26de8",
   "metadata": {},
   "outputs": [
    {
     "name": "stdout",
     "output_type": "stream",
     "text": [
      "[1, 4, 9, 16, 25]\n"
     ]
    }
   ],
   "source": [
    "# Function 9 (Loop with List Comprehension):\n",
    "# This function squares numbers in a list using list comprehension.\n",
    "\n",
    "def square_numbers(numbers):\n",
    "    squared_numbers = [num**2 for num in numbers]\n",
    "    return squared_numbers\n",
    "\n",
    "# Example\n",
    "numbers = [1, 2, 3, 4, 5]\n",
    "squared_numbers = square_numbers(numbers)\n",
    "print(squared_numbers)\n"
   ]
  },
  {
   "cell_type": "code",
   "execution_count": 14,
   "id": "63b564f0-16b2-40a8-864b-44fb7cdd4e7b",
   "metadata": {},
   "outputs": [
    {
     "name": "stdout",
     "output_type": "stream",
     "text": [
      "P y t h n   s   f n "
     ]
    }
   ],
   "source": [
    "# Function 10 (Loop with a String and Skip Characters):\n",
    "# This function prints characters from a string, skipping specified characters.\n",
    "def print_characters_with_skip(word, skip_chars):\n",
    "    for letter in word:\n",
    "        if letter in skip_chars:\n",
    "            continue\n",
    "        print(letter, end=\" \")\n",
    "\n",
    "# Example\n",
    "word = \"Python is fun\"\n",
    "skip_chars = \"aeiou\"\n",
    "print_characters_with_skip(word, skip_chars)\n"
   ]
  },
  {
   "cell_type": "code",
   "execution_count": null,
   "id": "1bb5889e-afcd-4780-a7df-93a086693fde",
   "metadata": {},
   "outputs": [],
   "source": []
  },
  {
   "cell_type": "code",
   "execution_count": null,
   "id": "92b0f7e7-ad10-4cc9-af92-1480c7baa5e6",
   "metadata": {},
   "outputs": [],
   "source": []
  }
 ],
 "metadata": {
  "kernelspec": {
   "display_name": "Python 3 (ipykernel)",
   "language": "python",
   "name": "python3"
  },
  "language_info": {
   "codemirror_mode": {
    "name": "ipython",
    "version": 3
   },
   "file_extension": ".py",
   "mimetype": "text/x-python",
   "name": "python",
   "nbconvert_exporter": "python",
   "pygments_lexer": "ipython3",
   "version": "3.11.5"
  }
 },
 "nbformat": 4,
 "nbformat_minor": 5
}
