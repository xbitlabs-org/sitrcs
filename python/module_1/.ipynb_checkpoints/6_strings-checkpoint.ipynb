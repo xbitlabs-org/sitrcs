{
 "cells": [
  {
   "cell_type": "code",
   "execution_count": null,
   "id": "86e60d64-0738-48cf-954e-687cfa07d7c7",
   "metadata": {},
   "outputs": [],
   "source": []
  },
  {
   "cell_type": "code",
   "execution_count": 11,
   "id": "46d764c7-195b-444f-b04b-f4af31108b57",
   "metadata": {},
   "outputs": [],
   "source": [
    "# String concatination \n",
    "# Strings are immutable, so we do not modify but we can concatenate them together "
   ]
  },
  {
   "cell_type": "code",
   "execution_count": 6,
   "id": "96561d55-dc41-434f-acee-2609695383e7",
   "metadata": {},
   "outputs": [
    {
     "data": {
      "text/plain": [
       "'sampoorna    group'"
      ]
     },
     "execution_count": 6,
     "metadata": {},
     "output_type": "execute_result"
    }
   ],
   "source": [
    "var1 = \"sampoorna \"\n",
    "var2 = \"   group\"\n",
    "\n",
    "var1 + var2"
   ]
  },
  {
   "cell_type": "code",
   "execution_count": 12,
   "id": "b3df0196-2d55-44c9-93dc-3e01b32dfc8b",
   "metadata": {},
   "outputs": [],
   "source": [
    "\n",
    "## Concatination using join() method\n",
    "\n",
    "# Elements of the sequence(list) are joined by the string separator"
   ]
  },
  {
   "cell_type": "code",
   "execution_count": 13,
   "id": "e2cc5d02-3e5d-4a26-892e-67c85e913edb",
   "metadata": {},
   "outputs": [],
   "source": [
    "var3 = \"\".join([var1, var2])"
   ]
  },
  {
   "cell_type": "code",
   "execution_count": 14,
   "id": "00e30643-4a94-4e2a-8b0a-f838dd1b0c36",
   "metadata": {},
   "outputs": [
    {
     "data": {
      "text/plain": [
       "'sampoorna    group'"
      ]
     },
     "execution_count": 14,
     "metadata": {},
     "output_type": "execute_result"
    }
   ],
   "source": [
    "var3"
   ]
  },
  {
   "cell_type": "code",
   "execution_count": 15,
   "id": "ec31aa16-645e-40cf-b869-0ccc05c76159",
   "metadata": {},
   "outputs": [],
   "source": [
    "\n",
    "\n",
    "var3 = \"xyz  \".join([var1, var2])"
   ]
  },
  {
   "cell_type": "code",
   "execution_count": 16,
   "id": "887ebe19-3ea4-44d7-960b-07c15e8cc1f8",
   "metadata": {},
   "outputs": [
    {
     "data": {
      "text/plain": [
       "'sampoorna xyz     group'"
      ]
     },
     "execution_count": 16,
     "metadata": {},
     "output_type": "execute_result"
    }
   ],
   "source": [
    "var3"
   ]
  },
  {
   "cell_type": "code",
   "execution_count": null,
   "id": "64d81054-5cd1-4b5f-b812-149ee6915d1c",
   "metadata": {},
   "outputs": [],
   "source": []
  }
 ],
 "metadata": {
  "kernelspec": {
   "display_name": "Python 3 (ipykernel)",
   "language": "python",
   "name": "python3"
  },
  "language_info": {
   "codemirror_mode": {
    "name": "ipython",
    "version": 3
   },
   "file_extension": ".py",
   "mimetype": "text/x-python",
   "name": "python",
   "nbconvert_exporter": "python",
   "pygments_lexer": "ipython3",
   "version": "3.11.5"
  }
 },
 "nbformat": 4,
 "nbformat_minor": 5
}
