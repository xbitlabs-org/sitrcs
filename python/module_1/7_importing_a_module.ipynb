{
 "cells": [
  {
   "cell_type": "code",
   "execution_count": 1,
   "id": "5a4cbcfb-013a-44ef-9ad5-2e3ae319cb87",
   "metadata": {},
   "outputs": [
    {
     "name": "stdout",
     "output_type": "stream",
     "text": [
      "True\n"
     ]
    },
    {
     "data": {
      "text/plain": [
       "\"\\nMethod is sqrt()  which is present in the 'math' module/ library of python\\n\\n\""
      ]
     },
     "execution_count": 1,
     "metadata": {},
     "output_type": "execute_result"
    }
   ],
   "source": [
    "import math   # Here we are importing math module\n",
    "\n",
    "def check_prime(n):\n",
    "\n",
    "    if n <= 1:\n",
    "\n",
    "        return False\n",
    "\n",
    "    for i in range(2, int(math.sqrt(n)) + 1):   ## math.sqrt() function is called which calculates the square root of the number \n",
    "\n",
    "        if n % i == 0:\n",
    "\n",
    "            return False\n",
    "\n",
    "    return True\n",
    "\n",
    "\n",
    "n = 11\n",
    "\n",
    "print(check_prime(n))\n",
    "\n",
    "\n",
    "'''\n",
    "Method is sqrt()  which is present in the 'math' module/ library of python\n",
    "\n",
    "'''"
   ]
  },
  {
   "cell_type": "code",
   "execution_count": null,
   "id": "3aca23c2-8b91-4115-82e1-932f99af2bac",
   "metadata": {},
   "outputs": [],
   "source": []
  }
 ],
 "metadata": {
  "kernelspec": {
   "display_name": "Python 3 (ipykernel)",
   "language": "python",
   "name": "python3"
  },
  "language_info": {
   "codemirror_mode": {
    "name": "ipython",
    "version": 3
   },
   "file_extension": ".py",
   "mimetype": "text/x-python",
   "name": "python",
   "nbconvert_exporter": "python",
   "pygments_lexer": "ipython3",
   "version": "3.11.5"
  }
 },
 "nbformat": 4,
 "nbformat_minor": 5
}
