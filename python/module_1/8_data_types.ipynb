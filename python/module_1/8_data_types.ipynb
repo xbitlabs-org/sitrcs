{
 "cells": [
  {
   "cell_type": "code",
   "execution_count": 1,
   "id": "25002948-f347-44d5-a04e-f44f64eb0ffb",
   "metadata": {},
   "outputs": [
    {
     "name": "stdout",
     "output_type": "stream",
     "text": [
      "5.0\n",
      "3\n",
      "42\n",
      "123\n"
     ]
    }
   ],
   "source": [
    "# Example 1: Converting from Integer to Float\n",
    "\n",
    "x = 5\n",
    "\n",
    "y = float(x)  # Convert x to a float\n",
    "\n",
    "print(y)  # Output: 5.0\n",
    "\n",
    "\n",
    "\n",
    "# Example 2: Converting from Float to Integer\n",
    "\n",
    "a = 3.7\n",
    "\n",
    "b = int(a)  # Convert a to an integer (rounds down)\n",
    "\n",
    "print(b)  # Output: 3\n",
    "\n",
    "\n",
    "\n",
    "# Example 3: Converting from Integer to String\n",
    "\n",
    "num = 42\n",
    "\n",
    "text = str(num)  # Convert num to a string\n",
    "\n",
    "print(text)  # Output: \"42\"\n",
    "\n",
    "\n",
    "\n",
    "# Example 4: Converting from String to Integer\n",
    "\n",
    "user_input = \"123\"\n",
    "\n",
    "number = int(user_input)  # Convert user_input to an integer\n",
    "\n",
    "print(number)  # Output: 123"
   ]
  },
  {
   "cell_type": "code",
   "execution_count": null,
   "id": "d0f90e64-67af-4a5d-8782-0c9abf9f76ea",
   "metadata": {},
   "outputs": [],
   "source": []
  }
 ],
 "metadata": {
  "kernelspec": {
   "display_name": "Python 3 (ipykernel)",
   "language": "python",
   "name": "python3"
  },
  "language_info": {
   "codemirror_mode": {
    "name": "ipython",
    "version": 3
   },
   "file_extension": ".py",
   "mimetype": "text/x-python",
   "name": "python",
   "nbconvert_exporter": "python",
   "pygments_lexer": "ipython3",
   "version": "3.11.5"
  }
 },
 "nbformat": 4,
 "nbformat_minor": 5
}
