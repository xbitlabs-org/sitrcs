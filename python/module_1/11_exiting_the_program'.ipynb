{
 "cells": [
  {
   "cell_type": "code",
   "execution_count": 1,
   "id": "4d68735e-3091-4128-99f3-ca284524282c",
   "metadata": {},
   "outputs": [
    {
     "name": "stdin",
     "output_type": "stream",
     "text": [
      "Do you want to exit the program? (yes/no):  yes\n"
     ]
    },
    {
     "name": "stdout",
     "output_type": "stream",
     "text": [
      "Exiting the program.\n",
      "Program exited using sys.exit().\n",
      "Program execution completed.\n"
     ]
    }
   ],
   "source": [
    "import sys\n",
    "\n",
    "\n",
    "\n",
    "try:\n",
    "\n",
    "    user_input = input(\"Do you want to exit the program? (yes/no): \")\n",
    "\n",
    "    if user_input.lower() == \"yes\":\n",
    "\n",
    "        print(\"Exiting the program.\")\n",
    "\n",
    "        sys.exit(0)  # Exit the program with a status code 0 (indicating success)\n",
    "\n",
    "    else:\n",
    "\n",
    "        print(\"Continuing with the program...\")\n",
    "\n",
    "except KeyboardInterrupt:\n",
    "\n",
    "    print(\"Program terminated by user using Ctrl+C.\")\n",
    "\n",
    "except SystemExit:\n",
    "\n",
    "    print(\"Program exited using sys.exit().\")\n",
    "\n",
    "finally:\n",
    "\n",
    "    print(\"Program execution completed.\")"
   ]
  },
  {
   "cell_type": "code",
   "execution_count": null,
   "id": "f7fc90ac-4b8f-447a-946d-b08589385587",
   "metadata": {},
   "outputs": [],
   "source": []
  }
 ],
 "metadata": {
  "kernelspec": {
   "display_name": "Python 3 (ipykernel)",
   "language": "python",
   "name": "python3"
  },
  "language_info": {
   "codemirror_mode": {
    "name": "ipython",
    "version": 3
   },
   "file_extension": ".py",
   "mimetype": "text/x-python",
   "name": "python",
   "nbconvert_exporter": "python",
   "pygments_lexer": "ipython3",
   "version": "3.11.5"
  }
 },
 "nbformat": 4,
 "nbformat_minor": 5
}
