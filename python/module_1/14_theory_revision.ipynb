{
 "cells": [
  {
   "cell_type": "code",
   "execution_count": 4,
   "id": "1c3982d0-8a7f-422d-ac9a-8277e3d1f585",
   "metadata": {},
   "outputs": [
    {
     "name": "stdout",
     "output_type": "stream",
     "text": [
      "<class 'int'>\n"
     ]
    }
   ],
   "source": [
    "#Predicting Data Types in Python\n",
    "\n",
    "\n",
    "var1 = 10  # Expected data type: Integer\n",
    "\n",
    "var2 = 1   # Expected data type: Integer\n",
    "\n",
    "print(type(var1))"
   ]
  },
  {
   "cell_type": "code",
   "execution_count": 1,
   "id": "4a2b00e6-ca9f-46b2-a760-02138d75a9a2",
   "metadata": {},
   "outputs": [],
   "source": [
    "# Different Numerical Data Types in Python"
   ]
  },
  {
   "cell_type": "code",
   "execution_count": 5,
   "id": "3144a8dd-6ca7-4e33-b9fb-8c2afe6bad15",
   "metadata": {},
   "outputs": [
    {
     "name": "stdout",
     "output_type": "stream",
     "text": [
      "Hello World!\n",
      "H\n",
      "llo\n",
      "llo World!\n",
      "Hello World!Hello World!\n",
      "Hello World!TEST\n"
     ]
    }
   ],
   "source": [
    "str = 'Hello World!'\n",
    "print (str) # Prints complete string\n",
    "print (str[0]) # Prints first character of the string\n",
    "print (str[2:5]) # Prints characters starting from 3rd to 5th\n",
    "print (str[2:]) # Prints string starting from 3rd character\n",
    "print (str * 2) # Prints string two times\n",
    "print (str + \"TEST\") # Prints concatenated string"
   ]
  },
  {
   "cell_type": "code",
   "execution_count": 4,
   "id": "fc8fcbbf-6383-4997-97d2-e18ee315f034",
   "metadata": {},
   "outputs": [
    {
     "name": "stdout",
     "output_type": "stream",
     "text": [
      "['abcd', 786, 2.23, 'john', 70.2]\n",
      "abcd\n",
      "[786, 2.23]\n",
      "[2.23, 'john', 70.2]\n",
      "[123, 'john', 123, 'john']\n",
      "['abcd', 786, 2.23, 'john', 70.2, 123, 'john']\n"
     ]
    }
   ],
   "source": [
    "#!/usr/bin/python3\n",
    "list = [ 'abcd', 786 , 2.23, 'john', 70.2 ]\n",
    "tinylist = [123, 'john']\n",
    "print (list) # Prints complete list\n",
    "print (list[0]) # Prints first element of the list\n",
    "print (list[1:3]) # Prints elements starting from 2nd till 3rd\n",
    "print (list[2:]) # Prints elements starting from 3rd element\n",
    "print (tinylist * 2) # Prints list two times\n",
    "print (list + tinylist) # Prints concatenated lists"
   ]
  },
  {
   "cell_type": "code",
   "execution_count": null,
   "id": "43e4c253-9a93-4a20-8473-d5d176361bf0",
   "metadata": {},
   "outputs": [],
   "source": []
  },
  {
   "cell_type": "code",
   "execution_count": null,
   "id": "3061c6cd-f49a-4e5a-b037-4f7ee55a6e33",
   "metadata": {},
   "outputs": [],
   "source": []
  }
 ],
 "metadata": {
  "kernelspec": {
   "display_name": "Python 3 (ipykernel)",
   "language": "python",
   "name": "python3"
  },
  "language_info": {
   "codemirror_mode": {
    "name": "ipython",
    "version": 3
   },
   "file_extension": ".py",
   "mimetype": "text/x-python",
   "name": "python",
   "nbconvert_exporter": "python",
   "pygments_lexer": "ipython3",
   "version": "3.11.5"
  }
 },
 "nbformat": 4,
 "nbformat_minor": 5
}
