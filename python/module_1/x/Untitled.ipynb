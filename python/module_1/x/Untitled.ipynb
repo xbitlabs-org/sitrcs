{
 "cells": [
  {
   "cell_type": "code",
   "execution_count": 5,
   "id": "d5328946-8381-4d7c-ad39-65cd361523bc",
   "metadata": {},
   "outputs": [
    {
     "name": "stdout",
     "output_type": "stream",
     "text": [
      "[array([[1, 2, 3],\n",
      "       [4, 5, 6]]), array([[ 7,  8,  9],\n",
      "       [10, 11, 12]]), array([[13, 14, 15],\n",
      "       [16, 17, 18]])]\n"
     ]
    }
   ],
   "source": [
    "import numpy as np\n",
    "\n",
    "arr = np.array([[1, 2, 3], [4, 5, 6], [7, 8, 9], [10, 11, 12], [13, 14, 15], [16, 17, 18]])\n",
    "\n",
    "newarr = np.array_split(arr, 3, axis=0)\n",
    "\n",
    "print(newarr)\n"
   ]
  },
  {
   "cell_type": "code",
   "execution_count": 8,
   "id": "af309e19-4f00-474d-aecc-8a96060d3a66",
   "metadata": {},
   "outputs": [
    {
     "name": "stdout",
     "output_type": "stream",
     "text": [
      "[[0. 0. 0.]\n",
      " [0. 0. 0.]\n",
      " [0. 0. 0.]]\n"
     ]
    }
   ],
   "source": [
    "x = np.zeros([3,3])\n",
    "print(x)"
   ]
  },
  {
   "cell_type": "code",
   "execution_count": 11,
   "id": "ed0978a1-ae35-4349-b8f2-32b2350ff23b",
   "metadata": {},
   "outputs": [
    {
     "name": "stdout",
     "output_type": "stream",
     "text": [
      "37\n"
     ]
    }
   ],
   "source": [
    "from numpy import random\n",
    "\n",
    "\n",
    "print(x)"
   ]
  },
  {
   "cell_type": "code",
   "execution_count": 13,
   "id": "9d2b6f54-d187-4972-9ec9-b316c9e878a4",
   "metadata": {},
   "outputs": [
    {
     "name": "stdout",
     "output_type": "stream",
     "text": [
      "80\n",
      "59\n",
      "47\n",
      "29\n",
      "0\n",
      "40\n",
      "62\n",
      "40\n",
      "98\n",
      "36\n",
      "44\n",
      "77\n",
      "51\n",
      "54\n",
      "87\n",
      "62\n",
      "46\n",
      "27\n",
      "63\n",
      "73\n",
      "54\n",
      "60\n",
      "79\n",
      "22\n",
      "47\n",
      "93\n",
      "70\n",
      "51\n",
      "68\n",
      "95\n",
      "25\n",
      "48\n",
      "28\n",
      "62\n",
      "32\n",
      "85\n",
      "28\n",
      "86\n",
      "80\n",
      "2\n",
      "10\n",
      "63\n",
      "47\n",
      "16\n",
      "24\n",
      "96\n",
      "18\n",
      "23\n",
      "97\n",
      "98\n",
      "61\n",
      "93\n",
      "25\n",
      "60\n",
      "7\n",
      "65\n",
      "95\n",
      "8\n",
      "1\n",
      "95\n",
      "79\n",
      "45\n",
      "16\n",
      "29\n",
      "77\n",
      "43\n",
      "3\n",
      "54\n",
      "28\n",
      "66\n",
      "12\n",
      "42\n",
      "41\n",
      "89\n",
      "38\n",
      "6\n",
      "72\n",
      "73\n",
      "28\n",
      "68\n",
      "3\n",
      "77\n",
      "27\n",
      "61\n",
      "17\n",
      "5\n",
      "40\n",
      "64\n",
      "56\n",
      "23\n",
      "97\n",
      "8\n",
      "47\n",
      "44\n",
      "84\n",
      "79\n",
      "70\n",
      "15\n",
      "17\n",
      "57\n"
     ]
    }
   ],
   "source": [
    "for i in range(100):\n",
    "    x = random.randint(100)\n",
    "    print(x)"
   ]
  },
  {
   "cell_type": "code",
   "execution_count": null,
   "id": "f0411e24-c726-4cc7-a0ac-55a8d928704c",
   "metadata": {},
   "outputs": [],
   "source": []
  }
 ],
 "metadata": {
  "kernelspec": {
   "display_name": "Python 3 (ipykernel)",
   "language": "python",
   "name": "python3"
  },
  "language_info": {
   "codemirror_mode": {
    "name": "ipython",
    "version": 3
   },
   "file_extension": ".py",
   "mimetype": "text/x-python",
   "name": "python",
   "nbconvert_exporter": "python",
   "pygments_lexer": "ipython3",
   "version": "3.11.5"
  }
 },
 "nbformat": 4,
 "nbformat_minor": 5
}
