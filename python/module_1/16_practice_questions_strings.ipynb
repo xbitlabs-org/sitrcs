{
 "cells": [
  {
   "cell_type": "code",
   "execution_count": 3,
   "id": "3d4f8df8-bacd-49eb-8a4e-006bdbde6c37",
   "metadata": {},
   "outputs": [
    {
     "name": "stdout",
     "output_type": "stream",
     "text": [
      "6\n"
     ]
    }
   ],
   "source": [
    "# Task 1 - Create a function that takes string as an argument and outputs the length of that string - > once done teach about the builtin len() function\n",
    "\n",
    "x = \"python\"\n",
    "\n",
    "count = 0\n",
    "for i in x:\n",
    "    count = count + 1\n",
    "\n",
    "print(count)"
   ]
  },
  {
   "cell_type": "code",
   "execution_count": 15,
   "id": "4fb2c9cc-8f36-4192-ad7a-3908b5e45cd8",
   "metadata": {},
   "outputs": [
    {
     "data": {
      "text/plain": [
       "'I am l'"
      ]
     },
     "execution_count": 15,
     "metadata": {},
     "output_type": "execute_result"
    }
   ],
   "source": [
    "# Task 2 - String slicing\n",
    " # print nth charachter\n",
    " # print set of characters from end from starting using slicing\n",
    "\n",
    "xyz = \"I am learning python\"\n",
    "\n",
    "xyz[0:6]"
   ]
  },
  {
   "cell_type": "code",
   "execution_count": 12,
   "id": "f0d1a550-ea46-40ff-bc63-d9ef6be5a90e",
   "metadata": {},
   "outputs": [
    {
     "data": {
      "text/plain": [
       "'python'"
      ]
     },
     "execution_count": 12,
     "metadata": {},
     "output_type": "execute_result"
    }
   ],
   "source": [
    "xyz[-6:]"
   ]
  },
  {
   "cell_type": "code",
   "execution_count": 14,
   "id": "774664e4-5806-4da0-b228-9acfad43fa1c",
   "metadata": {},
   "outputs": [
    {
     "data": {
      "text/plain": [
       "' learning python'"
      ]
     },
     "execution_count": 14,
     "metadata": {},
     "output_type": "execute_result"
    }
   ],
   "source": [
    "xyz[4:]"
   ]
  },
  {
   "cell_type": "code",
   "execution_count": 25,
   "id": "77101cc9-a469-4baf-8808-deb228d57435",
   "metadata": {},
   "outputs": [
    {
     "name": "stdout",
     "output_type": "stream",
     "text": [
      "I am learning \n",
      "Python\n"
     ]
    }
   ],
   "source": [
    "# Task 3 - Write your introduction in points using strings. Escape characters e.g \\n and \\t to be used in strings to give new lines and tabs \n",
    "\n",
    "x = \"I am learning \\nPython\"\n",
    "print(x)"
   ]
  },
  {
   "cell_type": "code",
   "execution_count": null,
   "id": "918255d4-45fd-4034-b998-e759a897ebff",
   "metadata": {},
   "outputs": [],
   "source": []
  },
  {
   "cell_type": "code",
   "execution_count": 24,
   "id": "30f8bcb1-f578-4ee3-bde8-457b0e565472",
   "metadata": {},
   "outputs": [
    {
     "name": "stdout",
     "output_type": "stream",
     "text": [
      "This is a line.\n",
      "This is a new line.\n"
     ]
    }
   ],
   "source": [
    "newline = \"This is a line.\\nThis is a new line.\"\n",
    "\n",
    "print(newline)"
   ]
  },
  {
   "cell_type": "code",
   "execution_count": 26,
   "id": "b5ddbe78-0bae-4c33-a9b2-3e7723a1421c",
   "metadata": {},
   "outputs": [
    {
     "name": "stdout",
     "output_type": "stream",
     "text": [
      "John Doe\n"
     ]
    }
   ],
   "source": [
    "\n",
    "# Task 4 - String concatenation - \n",
    "first_name = \"John\"\n",
    "last_name = \"Doe\"\n",
    "\n",
    "# Concatenate the first name and last name\n",
    "full_name = first_name + \" \" + last_name\n",
    "\n",
    "print(full_name)  # Output: \"John Doe\""
   ]
  },
  {
   "cell_type": "code",
   "execution_count": 28,
   "id": "3b23bbd3-d3e3-473d-8a08-875d883a09f4",
   "metadata": {},
   "outputs": [],
   "source": [
    "# Understanding Lists"
   ]
  },
  {
   "cell_type": "code",
   "execution_count": 27,
   "id": "e27dd723-e2f4-40e6-8d2a-66090e51e477",
   "metadata": {},
   "outputs": [],
   "source": [
    "# Task 5 - Suppose you have a list of 5 first names and 5 last names, we need to print them together "
   ]
  },
  {
   "cell_type": "code",
   "execution_count": 29,
   "id": "edcaffbc-abb8-4a82-bece-dea934d0af8e",
   "metadata": {},
   "outputs": [],
   "source": [
    "first_name = [\"f1\", \"f2\", \"f3\", \"f4\", \"f5\"]\n",
    "last_name = [\"l1\", \"l2\", \"l3\", \"l4\", \"l5\"]"
   ]
  },
  {
   "cell_type": "code",
   "execution_count": 31,
   "id": "11ce0af0-232f-4457-8c8b-73f9ca3804c1",
   "metadata": {},
   "outputs": [
    {
     "name": "stdout",
     "output_type": "stream",
     "text": [
      "f1 l1\n",
      "f2 l2\n",
      "f3 l3\n",
      "f4 l4\n",
      "f5 l5\n"
     ]
    }
   ],
   "source": [
    "x = len(first_name)\n",
    "\n",
    "for i in range(x):\n",
    "    print(first_name[i] + \" \" + last_name[i])"
   ]
  },
  {
   "cell_type": "code",
   "execution_count": null,
   "id": "e9c3430a-cc44-4d5f-81a8-b9cc2feae855",
   "metadata": {},
   "outputs": [],
   "source": []
  }
 ],
 "metadata": {
  "kernelspec": {
   "display_name": "Python 3 (ipykernel)",
   "language": "python",
   "name": "python3"
  },
  "language_info": {
   "codemirror_mode": {
    "name": "ipython",
    "version": 3
   },
   "file_extension": ".py",
   "mimetype": "text/x-python",
   "name": "python",
   "nbconvert_exporter": "python",
   "pygments_lexer": "ipython3",
   "version": "3.11.5"
  }
 },
 "nbformat": 4,
 "nbformat_minor": 5
}
