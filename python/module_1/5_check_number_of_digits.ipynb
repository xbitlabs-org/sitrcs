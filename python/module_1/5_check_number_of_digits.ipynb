{
 "cells": [
  {
   "cell_type": "code",
   "execution_count": 6,
   "id": "d4000abe-c367-4745-92b9-b55e26220543",
   "metadata": {},
   "outputs": [],
   "source": []
  },
  {
   "cell_type": "code",
   "execution_count": 7,
   "id": "2bc2d4a8-f5e6-455b-8179-3047e9fe7936",
   "metadata": {},
   "outputs": [],
   "source": [
    "## Check the number of digits in a number input by the user"
   ]
  },
  {
   "cell_type": "code",
   "execution_count": 8,
   "id": "c39967ee-48d1-4a5a-ba07-a004d9762084",
   "metadata": {},
   "outputs": [
    {
     "name": "stdin",
     "output_type": "stream",
     "text": [
      " 5\n"
     ]
    },
    {
     "name": "stdout",
     "output_type": "stream",
     "text": [
      "Total digits are: 1\n"
     ]
    }
   ],
   "source": [
    "num = int(input())\n",
    "count = 0\n",
    "while num != 0:\n",
    "\n",
    "    # floor division will divide the number and gives the integer part by removing the decimal\n",
    "    num = num // 10\n",
    "\n",
    "    # we increase the count by checking the total number of division that happened until num reaches 0 \n",
    "    count = count + 1\n",
    "print(\"Total digits are:\", count)"
   ]
  },
  {
   "cell_type": "code",
   "execution_count": 5,
   "id": "d8aa06f4-2808-4ced-a625-18d08c7a2af7",
   "metadata": {},
   "outputs": [],
   "source": [
    "def check_number_of_digits(num):\n",
    "    count = 0\n",
    "    while num!=0:\n",
    "        num = num // 10\n",
    "        count = count + 1\n",
    "    return count"
   ]
  },
  {
   "cell_type": "code",
   "execution_count": 6,
   "id": "6cf16c42-597f-4993-99ce-840b2ba10791",
   "metadata": {},
   "outputs": [
    {
     "data": {
      "text/plain": [
       "3"
      ]
     },
     "execution_count": 6,
     "metadata": {},
     "output_type": "execute_result"
    }
   ],
   "source": [
    "check_number_of_digits(567)"
   ]
  },
  {
   "cell_type": "code",
   "execution_count": 7,
   "id": "8793fdbf-b8cd-4ce1-a019-4b4688d63833",
   "metadata": {},
   "outputs": [
    {
     "data": {
      "text/plain": [
       "5"
      ]
     },
     "execution_count": 7,
     "metadata": {},
     "output_type": "execute_result"
    }
   ],
   "source": [
    "check_number_of_digits(56798)"
   ]
  },
  {
   "cell_type": "code",
   "execution_count": 2,
   "id": "6f28763b-64ff-49f1-b41a-a3f3ddf0f818",
   "metadata": {},
   "outputs": [],
   "source": [
    "# Go through this program to understand the above program easily"
   ]
  },
  {
   "cell_type": "code",
   "execution_count": 1,
   "id": "8718bd4d-8f3a-423b-b31b-e50f993362f9",
   "metadata": {},
   "outputs": [
    {
     "name": "stdin",
     "output_type": "stream",
     "text": [
      " 4567\n"
     ]
    },
    {
     "name": "stdout",
     "output_type": "stream",
     "text": [
      "456\n",
      "45\n",
      "4\n",
      "0\n",
      "Total digits are: 4\n"
     ]
    }
   ],
   "source": [
    "num = int(input())\n",
    "\n",
    "count = 0\n",
    "\n",
    "while num != 0:\n",
    "\n",
    "\n",
    "\n",
    "    # floor division will divide the number and gives the integer part by removing the decimal\n",
    "\n",
    "    num = num // 10\n",
    "    print(num)\n",
    "\n",
    "\n",
    "\n",
    "    # we increase the count by checking the total number of division that happened until num reaches 0 \n",
    "\n",
    "    count = count + 1\n",
    "\n",
    "print(\"Total digits are:\", count)"
   ]
  },
  {
   "cell_type": "code",
   "execution_count": null,
   "id": "efa7653e-0f7b-4b2a-98e1-fd7f37f54923",
   "metadata": {},
   "outputs": [],
   "source": []
  }
 ],
 "metadata": {
  "kernelspec": {
   "display_name": "Python 3 (ipykernel)",
   "language": "python",
   "name": "python3"
  },
  "language_info": {
   "codemirror_mode": {
    "name": "ipython",
    "version": 3
   },
   "file_extension": ".py",
   "mimetype": "text/x-python",
   "name": "python",
   "nbconvert_exporter": "python",
   "pygments_lexer": "ipython3",
   "version": "3.11.5"
  }
 },
 "nbformat": 4,
 "nbformat_minor": 5
}
