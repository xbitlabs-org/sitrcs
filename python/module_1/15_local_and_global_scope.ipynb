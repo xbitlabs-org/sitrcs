{
 "cells": [
  {
   "cell_type": "code",
   "execution_count": 1,
   "id": "c120080e-ff64-4a0e-8b39-77ac6703246c",
   "metadata": {},
   "outputs": [],
   "source": [
    "\n",
    "# Program 1: Local Scope\n",
    "\n",
    "'''\n",
    "In this program, we define a variable within a function, \n",
    "which creates a local variable with local scope.\n",
    "Attempting to access this variable outside the function will result in an error.\n",
    "'''\n",
    "\n"
   ]
  },
  {
   "cell_type": "code",
   "execution_count": 4,
   "id": "92705f9e-a226-4633-989d-5c41c3ef5e69",
   "metadata": {},
   "outputs": [
    {
     "name": "stdout",
     "output_type": "stream",
     "text": [
      "Inside the function: local_var = 10\n"
     ]
    }
   ],
   "source": [
    "def my_function():\n",
    "    local_var = 10\n",
    "    print(\"Inside the function: local_var =\", local_var)\n",
    "\n",
    "my_function()\n",
    "# Attempting to access local_var outside the function will result in an error.\n",
    "# print(\"Outside the function: local_var =\", local_var)\n"
   ]
  },
  {
   "cell_type": "code",
   "execution_count": 5,
   "id": "5632bddf-3396-4956-8834-efce77ccdd72",
   "metadata": {},
   "outputs": [
    {
     "name": "stdout",
     "output_type": "stream",
     "text": [
      "Inside the function: global_var = 20\n",
      "Outside the function: global_var = 20\n"
     ]
    }
   ],
   "source": [
    "# Program 2: Global Scope\n",
    "\n",
    "'''\n",
    "In this program, we define a variable at the global scope, \n",
    "making it accessible from anywhere within the program.\n",
    "'''\n",
    "global_var = 20\n",
    "\n",
    "def my_function():\n",
    "    print(\"Inside the function: global_var =\", global_var)\n",
    "\n",
    "my_function()\n",
    "print(\"Outside the function: global_var =\", global_var)\n"
   ]
  },
  {
   "cell_type": "code",
   "execution_count": 6,
   "id": "78b29686-fb4e-478b-841f-cbcbe6cad219",
   "metadata": {},
   "outputs": [
    {
     "name": "stdout",
     "output_type": "stream",
     "text": [
      "Inside the function: global_var = 40\n",
      "Outside the function: global_var = 40\n"
     ]
    }
   ],
   "source": [
    "# Program 3: Modifying Global Variable from a Function\n",
    "\n",
    "# This program demonstrates how a function can modify a global variable using the global keyword.\n",
    "\n",
    "global_var = 30\n",
    "\n",
    "def modify_global_var():\n",
    "    global global_var\n",
    "    global_var = 40\n",
    "    print(\"Inside the function: global_var =\", global_var)\n",
    "\n",
    "modify_global_var()\n",
    "print(\"Outside the function: global_var =\", global_var)\n"
   ]
  },
  {
   "cell_type": "code",
   "execution_count": 7,
   "id": "bcaa383e-de69-41c4-9f5b-a3c99b6fcaf9",
   "metadata": {},
   "outputs": [
    {
     "name": "stdout",
     "output_type": "stream",
     "text": [
      "Inside the function: global_var = 60\n",
      "Outside the function: global_var = 50\n"
     ]
    }
   ],
   "source": [
    "# Program 4: Local Variable Shadows Global Variable\n",
    "\n",
    "# In this program, a local variable with the same name as a global variable is created within a function. \n",
    "#This local variable shadows the global variable temporarily within the function's scope.\n",
    "\n",
    "global_var = 50\n",
    "\n",
    "def shadow_global_var():\n",
    "    global_var = 60  # Local variable with the same name as the global variable\n",
    "    print(\"Inside the function: global_var =\", global_var)\n",
    "\n",
    "shadow_global_var()\n",
    "print(\"Outside the function: global_var =\", global_var)\n"
   ]
  },
  {
   "cell_type": "code",
   "execution_count": 8,
   "id": "941b58c7-eea7-4331-a4ac-ef490340421f",
   "metadata": {},
   "outputs": [
    {
     "data": {
      "text/plain": [
       "'\\nThese programs illustrate the concepts of local and global scope in Python, and how variables can be defined and accessed within different scopes.\\n'"
      ]
     },
     "execution_count": 8,
     "metadata": {},
     "output_type": "execute_result"
    }
   ],
   "source": [
    "'''\n",
    "These programs illustrate the concepts of local and global scope in Python, and how variables can be defined and accessed within different scopes.\n",
    "'''"
   ]
  },
  {
   "cell_type": "code",
   "execution_count": null,
   "id": "fcec812e-4947-4287-8737-b9bc83cf72d3",
   "metadata": {},
   "outputs": [],
   "source": []
  }
 ],
 "metadata": {
  "kernelspec": {
   "display_name": "Python 3 (ipykernel)",
   "language": "python",
   "name": "python3"
  },
  "language_info": {
   "codemirror_mode": {
    "name": "ipython",
    "version": 3
   },
   "file_extension": ".py",
   "mimetype": "text/x-python",
   "name": "python",
   "nbconvert_exporter": "python",
   "pygments_lexer": "ipython3",
   "version": "3.11.5"
  }
 },
 "nbformat": 4,
 "nbformat_minor": 5
}
